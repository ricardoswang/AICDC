{
 "cells": [
  {
   "cell_type": "code",
   "execution_count": 1,
   "metadata": {
    "scrolled": false
   },
   "outputs": [],
   "source": [
    "import sys\n",
    "import time\n",
    "from PIL import Image, ImageDraw\n",
    "import utils\n",
    "import matplotlib.pyplot as plt\n",
    "import time\n",
    "import torch\n",
    "import torch.nn as nn\n",
    "import torch.nn.functional as F\n",
    "import torch.optim as optim\n",
    "import torch.backends.cudnn as cudnn\n",
    "from torchvision import datasets, transforms\n",
    "from torch.autograd import Variable\n",
    "%matplotlib inline\n",
    "import numpy as np\n",
    "import dataset\n",
    "import random\n",
    "import math\n",
    "import json\n",
    "from region_loss import RegionLoss\n",
    "from models import *\n",
    "import h5py\n",
    "os.environ['CUDA_VISIBLE_DEVICES'] = '0'\n",
    "torch.cuda.manual_seed(int(time.time()))"
   ]
  },
  {
   "cell_type": "code",
   "execution_count": 2,
   "metadata": {},
   "outputs": [],
   "source": [
    "transform=transforms.Compose([\n",
    "                           transforms.ToTensor(),\n",
    "                           transforms.Normalize(mean = [ 0.5, 0.5, 0.5 ],std = [ 0.25, 0.25, 0.25 ]),\n",
    "                       ])"
   ]
  },
  {
   "cell_type": "code",
   "execution_count": 3,
   "metadata": {},
   "outputs": [],
   "source": [
    "a = 'FullChannels()'"
   ]
  },
  {
   "cell_type": "code",
   "execution_count": 4,
   "metadata": {},
   "outputs": [],
   "source": [
    "model = eval(a)"
   ]
  },
  {
   "cell_type": "code",
   "execution_count": 5,
   "metadata": {
    "scrolled": true
   },
   "outputs": [
    {
     "data": {
      "text/plain": [
       "FullChannels(\n",
       "  (model): Sequential(\n",
       "    (0): Sequential(\n",
       "      (0): Conv2d(3, 3, kernel_size=(3, 3), stride=(1, 1), padding=(1, 1), groups=3)\n",
       "      (1): ReLU(inplace)\n",
       "      (2): Conv2d(3, 32, kernel_size=(1, 1), stride=(1, 1))\n",
       "      (3): ReLU(inplace)\n",
       "    )\n",
       "    (1): MaxPool2d(kernel_size=2, stride=2, padding=0, dilation=1, ceil_mode=False)\n",
       "    (2): Sequential(\n",
       "      (0): Conv2d(32, 32, kernel_size=(3, 3), stride=(1, 1), padding=(1, 1), groups=32)\n",
       "      (1): ReLU(inplace)\n",
       "      (2): Conv2d(32, 64, kernel_size=(1, 1), stride=(1, 1))\n",
       "      (3): ReLU(inplace)\n",
       "    )\n",
       "    (3): MaxPool2d(kernel_size=2, stride=2, padding=0, dilation=1, ceil_mode=False)\n",
       "    (4): Sequential(\n",
       "      (0): Conv2d(64, 64, kernel_size=(3, 3), stride=(1, 1), padding=(1, 1), groups=64)\n",
       "      (1): ReLU(inplace)\n",
       "      (2): Conv2d(64, 128, kernel_size=(1, 1), stride=(1, 1))\n",
       "      (3): ReLU(inplace)\n",
       "    )\n",
       "    (5): MaxPool2d(kernel_size=2, stride=2, padding=0, dilation=1, ceil_mode=False)\n",
       "    (6): Sequential(\n",
       "      (0): Conv2d(128, 128, kernel_size=(3, 3), stride=(1, 1), padding=(1, 1), groups=128)\n",
       "      (1): ReLU(inplace)\n",
       "      (2): Conv2d(128, 256, kernel_size=(1, 1), stride=(1, 1))\n",
       "      (3): ReLU(inplace)\n",
       "    )\n",
       "    (7): Conv2d(256, 10, kernel_size=(1, 1), stride=(1, 1), bias=False)\n",
       "  )\n",
       "  (loss): RegionLoss()\n",
       ")"
      ]
     },
     "execution_count": 5,
     "metadata": {},
     "output_type": "execute_result"
    }
   ],
   "source": [
    "load_net('backup/bestFullChannels().weights', model)\n",
    "model.cuda()"
   ]
  },
  {
   "cell_type": "code",
   "execution_count": 6,
   "metadata": {},
   "outputs": [],
   "source": [
    "count = 0\n",
    "for k, v in model.state_dict().items():\n",
    "    data=v.cpu().numpy()\n",
    "    if count<16 and count%2==0:\n",
    "        minimum=1.0/2**7\n",
    "    else:\n",
    "        minimum=1.0/2**7\n",
    "    for x in np.nditer(data, op_flags=['readwrite']):\n",
    "        if x[...]>1:\n",
    "            x[...]=0.99\n",
    "        if x[...]<-1:\n",
    "            x[...]=-0.99\n",
    "        x[...]=round(x[...]/minimum)*minimum\n",
    "    param = torch.from_numpy(data)  \n",
    "    v.copy_(param)"
   ]
  },
  {
   "cell_type": "code",
   "execution_count": 7,
   "metadata": {},
   "outputs": [],
   "source": [
    "with open('val_list.txt', 'r') as outfile:\n",
    "    lines = json.load(outfile)"
   ]
  },
  {
   "cell_type": "code",
   "execution_count": 8,
   "metadata": {},
   "outputs": [],
   "source": [
    "test_infos = lines[0]"
   ]
  },
  {
   "cell_type": "code",
   "execution_count": 9,
   "metadata": {
    "scrolled": true
   },
   "outputs": [
    {
     "name": "stdout",
     "output_type": "stream",
     "text": [
      "0.0\n",
      "0.0\n",
      "0.0\n",
      "0.0\n",
      "0.0\n",
      "0.0\n",
      "0.0\n",
      "0.0\n",
      "0.0\n",
      "0.0\n",
      "0.0\n",
      "0.0\n",
      "0.0\n",
      "0.0\n",
      "0.0\n",
      "0.0\n",
      "0.0\n",
      "0.0\n",
      "0.0\n",
      "0.0\n",
      "0.0\n",
      "0.0\n",
      "0.0\n",
      "0.0\n",
      "0.0\n",
      "0.0\n",
      "0.0\n",
      "0.0\n",
      "0.0\n",
      "0.0\n",
      "0.0\n",
      "0.0\n",
      "0.0\n",
      "0.0\n",
      "0.0\n",
      "0.0\n",
      "0.0\n",
      "0.0\n",
      "0.0\n",
      "0.0\n",
      "0.0\n",
      "0.0\n",
      "0.0\n",
      "0.0\n",
      "0.0\n",
      "0.0\n",
      "0.0\n",
      "0.0\n",
      "0.0\n",
      "0.0\n",
      "0.0\n",
      "0.0\n",
      "0.0\n",
      "0.0\n",
      "0.0\n",
      "0.0\n",
      "0.0\n",
      "tensor(0.0357)\n",
      "0.0\n",
      "0.0\n",
      "0.0\n",
      "0.0\n",
      "0.0\n",
      "0.0\n",
      "0.0\n",
      "0.0\n",
      "0.0\n",
      "tensor(0.0123)\n",
      "0.0\n",
      "0.0\n",
      "0.0\n",
      "0.0\n",
      "0.0\n",
      "0.0\n",
      "0.0\n",
      "0.0\n",
      "0.0\n",
      "0.0\n",
      "0.0\n",
      "0.0\n",
      "0.0\n",
      "0.0\n",
      "0.0\n",
      "0.0\n",
      "0.0\n",
      "0.0\n",
      "0.0\n",
      "0.0\n",
      "0.0\n",
      "0.0\n",
      "tensor(0.0084)\n",
      "0.0\n",
      "0.0\n",
      "0.0\n",
      "0.0\n",
      "0.0\n",
      "0.0\n",
      "0.0\n",
      "0.0\n",
      "0.0\n",
      "0.0\n",
      "0.0\n",
      "0.0\n",
      "0.0\n",
      "0.0\n",
      "0.0\n",
      "0.0\n",
      "0.0\n",
      "0.0\n",
      "0.0\n",
      "0.0\n",
      "0.0\n",
      "0.0\n",
      "0.0\n",
      "0.0\n",
      "0.0\n",
      "0.0\n",
      "0.0\n",
      "0.0\n",
      "0.0\n",
      "0.0\n",
      "0.0\n",
      "0.0\n",
      "0.0\n",
      "0.0\n",
      "0.0\n",
      "0.0\n",
      "0.0\n",
      "0.0\n",
      "0.0\n",
      "0.0\n",
      "0.0\n",
      "0.0\n",
      "0.0\n",
      "0.0\n",
      "0.0\n",
      "0.0\n",
      "0.0\n",
      "0.0\n",
      "0.0\n",
      "0.0\n",
      "0.0\n",
      "tensor(0.0632)\n",
      "0.0\n",
      "0.0\n",
      "0.0\n",
      "0.0\n",
      "0.0\n",
      "tensor(0.0003)\n",
      "0.0\n",
      "0.0\n",
      "0.0\n",
      "0.0\n",
      "0.0\n",
      "0.0\n",
      "0.0\n",
      "0.0\n",
      "0.0\n",
      "0.0\n",
      "0.0\n",
      "0.0\n",
      "0.0\n",
      "0.0\n",
      "0.0\n",
      "0.0\n",
      "0.0\n",
      "0.0\n"
     ]
    }
   ],
   "source": [
    "pred_infos = []\n",
    "anchors     = model.anchors\n",
    "num_anchors = model.num_anchors\n",
    "#anchor_step = len(anchors)/num_anchors\n",
    "anchor_step = int(len(anchors)/num_anchors)\n",
    "proposals = 0.0\n",
    "total = 0.0\n",
    "for i in range(len(test_infos)):\n",
    "    imgpath = test_infos[i][0]\n",
    "    box = test_infos[i][1]\n",
    "    label = np.zeros(4)\n",
    "    label[0:2] = box[2:4]\n",
    "    label[2:4] = box[0:2]\n",
    "    img = Image.open(imgpath).convert('RGB')\n",
    "    img = img.resize((model.width, model.height))\n",
    "    timg = transform(img)\n",
    "    timg = timg.view(1, 3, model.height, model.width)\n",
    "    output = model(timg.cuda()).data\n",
    "    batch = output.size(0)\n",
    "    h = output.size(2)\n",
    "    w = output.size(3)\n",
    "    output = output.view(batch*num_anchors, 5, h*w).transpose(0,1).contiguous().view(5, batch*num_anchors*h*w)\n",
    "    grid_x = torch.linspace(0, w-1, w).repeat(h,1).repeat(batch*num_anchors, 1, 1).view(batch*num_anchors*h*w).cuda()\n",
    "    grid_y = torch.linspace(0, h-1, h).repeat(w,1).t().repeat(batch*num_anchors, 1, 1).view(batch*num_anchors*h*w).cuda()\n",
    "    xs = torch.sigmoid(output[0]) + grid_x\n",
    "    ys = torch.sigmoid(output[1]) + grid_y\n",
    "\n",
    "    anchor_w = torch.Tensor(anchors).view(num_anchors, anchor_step).index_select(1, torch.LongTensor([0]))\n",
    "    anchor_h = torch.Tensor(anchors).view(num_anchors, anchor_step).index_select(1, torch.LongTensor([1]))\n",
    "    anchor_w = anchor_w.repeat(batch, 1).repeat(1, 1, h*w).view(batch*num_anchors*h*w).cuda()\n",
    "    anchor_h = anchor_h.repeat(batch, 1).repeat(1, 1, h*w).view(batch*num_anchors*h*w).cuda()\n",
    "    ws = torch.exp(output[2]) * anchor_w\n",
    "    hs = torch.exp(output[3]) * anchor_h\n",
    "    det_confs = torch.sigmoid(output[4])\n",
    "    sz_hw = h*w\n",
    "    sz_hwa = sz_hw*num_anchors\n",
    "    det_confs = convert2cpu(det_confs)\n",
    "    xs = convert2cpu(xs)\n",
    "    ys = convert2cpu(ys)\n",
    "    ws = convert2cpu(ws)\n",
    "    hs = convert2cpu(hs)        \n",
    "\n",
    "    for b in range(batch):\n",
    "        det_confs_inb = det_confs[b*sz_hwa:(b+1)*sz_hwa].numpy()\n",
    "        xs_inb = xs[b*sz_hwa:(b+1)*sz_hwa].numpy()\n",
    "        ys_inb = ys[b*sz_hwa:(b+1)*sz_hwa].numpy()\n",
    "        ws_inb = ws[b*sz_hwa:(b+1)*sz_hwa].numpy()\n",
    "        hs_inb = hs[b*sz_hwa:(b+1)*sz_hwa].numpy()      \n",
    "        ind = np.argmax(det_confs_inb)\n",
    "\n",
    "        bcx = xs_inb[ind]\n",
    "        bcy = ys_inb[ind]\n",
    "        bw = ws_inb[ind]\n",
    "        bh = hs_inb[ind]\n",
    "\n",
    "        box = [bcx/w, bcy/h, bw/w, bh/h]\n",
    "\n",
    "        iou = utils.bbox_iou(box, label, x1y1x2y2=False)\n",
    "        print(iou)\n",
    "        \n",
    "        pred_infos.append([imgpath,box])\n",
    "        proposals = proposals + iou\n",
    "        total = total+1"
   ]
  },
  {
   "cell_type": "code",
   "execution_count": 10,
   "metadata": {},
   "outputs": [
    {
     "data": {
      "text/plain": [
       "tensor(0.0007)"
      ]
     },
     "execution_count": 10,
     "metadata": {},
     "output_type": "execute_result"
    }
   ],
   "source": [
    "proposals/total"
   ]
  },
  {
   "cell_type": "code",
   "execution_count": 11,
   "metadata": {},
   "outputs": [],
   "source": [
    "with open('pred_infos.json', 'w') as outfile:\n",
    "    json.dump(pred_infos, outfile)"
   ]
  },
  {
   "cell_type": "code",
   "execution_count": 12,
   "metadata": {},
   "outputs": [],
   "source": [
    "param_list=[]\n",
    "for key, value in model.state_dict().items():\n",
    "    flat_weight = value.contiguous().view(value.numel())\n",
    "    param_list.extend(flat_weight.tolist())\n",
    "for i in param_list:\n",
    "    i = float(i)"
   ]
  },
  {
   "cell_type": "code",
   "execution_count": 13,
   "metadata": {},
   "outputs": [
    {
     "data": {
      "text/plain": [
       "48414"
      ]
     },
     "execution_count": 13,
     "metadata": {},
     "output_type": "execute_result"
    }
   ],
   "source": [
    "len(param_list)"
   ]
  },
  {
   "cell_type": "code",
   "execution_count": 14,
   "metadata": {},
   "outputs": [
    {
     "data": {
      "text/plain": [
       "193656"
      ]
     },
     "execution_count": 14,
     "metadata": {},
     "output_type": "execute_result"
    }
   ],
   "source": [
    "import struct\n",
    "fp = open(\"param_v19best.bin\",'wb')\n",
    "s = struct.pack('f'*len(param_list), *param_list)\n",
    "fp.write(s)"
   ]
  },
  {
   "cell_type": "code",
   "execution_count": 15,
   "metadata": {},
   "outputs": [
    {
     "data": {
      "text/plain": [
       "(500, 333)"
      ]
     },
     "execution_count": 15,
     "metadata": {},
     "output_type": "execute_result"
    }
   ],
   "source": [
    "img.size"
   ]
  },
  {
   "cell_type": "code",
   "execution_count": null,
   "metadata": {},
   "outputs": [],
   "source": []
  },
  {
   "cell_type": "code",
   "execution_count": null,
   "metadata": {},
   "outputs": [],
   "source": []
  },
  {
   "cell_type": "code",
   "execution_count": null,
   "metadata": {},
   "outputs": [],
   "source": []
  }
 ],
 "metadata": {
  "kernelspec": {
   "display_name": "Python 3",
   "language": "python",
   "name": "python3"
  },
  "language_info": {
   "codemirror_mode": {
    "name": "ipython",
    "version": 3
   },
   "file_extension": ".py",
   "mimetype": "text/x-python",
   "name": "python",
   "nbconvert_exporter": "python",
   "pygments_lexer": "ipython3",
   "version": "3.6.2"
  }
 },
 "nbformat": 4,
 "nbformat_minor": 2
}
